{
  "nbformat": 4,
  "nbformat_minor": 0,
  "metadata": {
    "colab": {
      "name": "Untitled3.ipynb",
      "provenance": [],
      "collapsed_sections": [],
      "authorship_tag": "ABX9TyMGB0BhdK481mNPeRIHWg0v",
      "include_colab_link": true
    },
    "kernelspec": {
      "name": "python3",
      "display_name": "Python 3"
    }
  },
  "cells": [
    {
      "cell_type": "markdown",
      "metadata": {
        "id": "view-in-github",
        "colab_type": "text"
      },
      "source": [
        "<a href=\"https://colab.research.google.com/github/aishwarya071/aishwarya071.github.io/blob/master/ANN.ipynb\" target=\"_parent\"><img src=\"https://colab.research.google.com/assets/colab-badge.svg\" alt=\"Open In Colab\"/></a>"
      ]
    },
    {
      "cell_type": "code",
      "metadata": {
        "id": "UI2lRK3K9Ysd",
        "colab": {
          "base_uri": "https://localhost:8080/",
          "height": 202
        },
        "outputId": "660cf79a-8ed0-4cf5-9b69-95319b1fdf3d"
      },
      "source": [
        "import numpy as np\r\n",
        "import pandas as pd\r\n",
        "import matplotlib.pyplot as plt\r\n",
        "#for splitting the data into train and test\r\n",
        "from sklearn.model_selection import train_test_split\r\n",
        "#for model evaluation\r\n",
        "from sklearn.metrics import accuracy_score\r\n",
        "data = pd.read_csv(r\"/content/heartprediction.csv\")\r\n",
        "data.head()"
      ],
      "execution_count": 34,
      "outputs": [
        {
          "output_type": "execute_result",
          "data": {
            "text/html": [
              "<div>\n",
              "<style scoped>\n",
              "    .dataframe tbody tr th:only-of-type {\n",
              "        vertical-align: middle;\n",
              "    }\n",
              "\n",
              "    .dataframe tbody tr th {\n",
              "        vertical-align: top;\n",
              "    }\n",
              "\n",
              "    .dataframe thead th {\n",
              "        text-align: right;\n",
              "    }\n",
              "</style>\n",
              "<table border=\"1\" class=\"dataframe\">\n",
              "  <thead>\n",
              "    <tr style=\"text-align: right;\">\n",
              "      <th></th>\n",
              "      <th>age</th>\n",
              "      <th>sex</th>\n",
              "      <th>cp</th>\n",
              "      <th>trestbps</th>\n",
              "      <th>chol</th>\n",
              "      <th>fbs</th>\n",
              "      <th>restecg</th>\n",
              "      <th>thalach</th>\n",
              "      <th>exang</th>\n",
              "      <th>oldpeak</th>\n",
              "      <th>slope</th>\n",
              "      <th>ca</th>\n",
              "      <th>thal</th>\n",
              "      <th>target</th>\n",
              "    </tr>\n",
              "  </thead>\n",
              "  <tbody>\n",
              "    <tr>\n",
              "      <th>0</th>\n",
              "      <td>63</td>\n",
              "      <td>1</td>\n",
              "      <td>3</td>\n",
              "      <td>145</td>\n",
              "      <td>233</td>\n",
              "      <td>1</td>\n",
              "      <td>0</td>\n",
              "      <td>150</td>\n",
              "      <td>0</td>\n",
              "      <td>2.3</td>\n",
              "      <td>0</td>\n",
              "      <td>0</td>\n",
              "      <td>1</td>\n",
              "      <td>1</td>\n",
              "    </tr>\n",
              "    <tr>\n",
              "      <th>1</th>\n",
              "      <td>37</td>\n",
              "      <td>1</td>\n",
              "      <td>2</td>\n",
              "      <td>130</td>\n",
              "      <td>250</td>\n",
              "      <td>0</td>\n",
              "      <td>1</td>\n",
              "      <td>187</td>\n",
              "      <td>0</td>\n",
              "      <td>3.5</td>\n",
              "      <td>0</td>\n",
              "      <td>0</td>\n",
              "      <td>2</td>\n",
              "      <td>1</td>\n",
              "    </tr>\n",
              "    <tr>\n",
              "      <th>2</th>\n",
              "      <td>41</td>\n",
              "      <td>0</td>\n",
              "      <td>1</td>\n",
              "      <td>130</td>\n",
              "      <td>204</td>\n",
              "      <td>0</td>\n",
              "      <td>0</td>\n",
              "      <td>172</td>\n",
              "      <td>0</td>\n",
              "      <td>1.4</td>\n",
              "      <td>2</td>\n",
              "      <td>0</td>\n",
              "      <td>2</td>\n",
              "      <td>1</td>\n",
              "    </tr>\n",
              "    <tr>\n",
              "      <th>3</th>\n",
              "      <td>56</td>\n",
              "      <td>1</td>\n",
              "      <td>1</td>\n",
              "      <td>120</td>\n",
              "      <td>236</td>\n",
              "      <td>0</td>\n",
              "      <td>1</td>\n",
              "      <td>178</td>\n",
              "      <td>0</td>\n",
              "      <td>0.8</td>\n",
              "      <td>2</td>\n",
              "      <td>0</td>\n",
              "      <td>2</td>\n",
              "      <td>1</td>\n",
              "    </tr>\n",
              "    <tr>\n",
              "      <th>4</th>\n",
              "      <td>57</td>\n",
              "      <td>0</td>\n",
              "      <td>0</td>\n",
              "      <td>120</td>\n",
              "      <td>354</td>\n",
              "      <td>0</td>\n",
              "      <td>1</td>\n",
              "      <td>163</td>\n",
              "      <td>1</td>\n",
              "      <td>0.6</td>\n",
              "      <td>2</td>\n",
              "      <td>0</td>\n",
              "      <td>2</td>\n",
              "      <td>1</td>\n",
              "    </tr>\n",
              "  </tbody>\n",
              "</table>\n",
              "</div>"
            ],
            "text/plain": [
              "   age  sex  cp  trestbps  chol  fbs  ...  exang  oldpeak  slope  ca  thal  target\n",
              "0   63    1   3       145   233    1  ...      0      2.3      0   0     1       1\n",
              "1   37    1   2       130   250    0  ...      0      3.5      0   0     2       1\n",
              "2   41    0   1       130   204    0  ...      0      1.4      2   0     2       1\n",
              "3   56    1   1       120   236    0  ...      0      0.8      2   0     2       1\n",
              "4   57    0   0       120   354    0  ...      1      0.6      2   0     2       1\n",
              "\n",
              "[5 rows x 14 columns]"
            ]
          },
          "metadata": {
            "tags": []
          },
          "execution_count": 34
        }
      ]
    },
    {
      "cell_type": "code",
      "metadata": {
        "colab": {
          "base_uri": "https://localhost:8080/",
          "height": 296
        },
        "id": "qYHNucawEq3N",
        "outputId": "07850a07-fb57-4bc2-bdbe-8125e3c0e9d5"
      },
      "source": [
        "plt.plot(data.T,'*')\r\n",
        "plt.xticks(rotation=90)\r\n",
        "plt.show()"
      ],
      "execution_count": 71,
      "outputs": [
        {
          "output_type": "display_data",
          "data": {
            "image/png": "[encoded data removed]",
            "text/plain": [
              "<Figure size 432x288 with 1 Axes>"
            ]
          },
          "metadata": {
            "tags": [],
            "needs_background": "light"
          }
        }
      ]
    },
    {
      "cell_type": "code",
      "metadata": {
        "id": "4c_zBC-0FIjc"
      },
      "source": [
        "Y = data['target']\r\n",
        "X = data.drop(['target'], axis=1)\r\n",
        "X_train, X_test, Y_train, Y_test = train_test_split(X, Y, test_size=0.2, random_state=3,stratify=Y)"
      ],
      "execution_count": 66,
      "outputs": []
    },
    {
      "cell_type": "code",
      "metadata": {
        "colab": {
          "base_uri": "https://localhost:8080/",
          "height": 329
        },
        "id": "Jpnnx2I8FOT5",
        "outputId": "8ea29fe2-52c9-4ff6-e362-e6819af1ea2a"
      },
      "source": [
        "x_train_binarized = X_train.apply(pd.cut,bins = 2 ,labels = [1,0]).values\r\n",
        "x_test_binarized = X_test.apply(pd.cut,bins=2,labels =[1,0]).values\r\n",
        " \r\n",
        "#plotting the data\r\n",
        "plt.figure(figsize=(15,5))\r\n",
        "plt.plot(x_train_binarized.T,'*')\r\n",
        "plt.xticks(rotation='vertical',c='black',size=15)\r\n",
        "plt.yticks(c='black',size=15)\r\n",
        "plt.show()"
      ],
      "execution_count": 74,
      "outputs": [
        {
          "output_type": "display_data",
          "data": {
            "image/png": "[encoded data removed]",
            "text/plain": [
              "<Figure size 1080x360 with 1 Axes>"
            ]
          },
          "metadata": {
            "tags": [],
            "needs_background": "light"
          }
        }
      ]
    },
    {
      "cell_type": "code",
      "metadata": {
        "id": "9UKqGbRKFthy"
      },
      "source": [
        "class MP_Neuron:\r\n",
        "  #intializing the parameter value to 0\r\n",
        "  def __init__(self):\r\n",
        "    self.b = 0\r\n",
        "  #defining the model\r\n",
        "  def Model(self,x):\r\n",
        "    return np.sum(x)>=self.b\r\n",
        "  #optimising algorithm\r\n",
        "  def fit(self,x,y):\r\n",
        "    #for storing accuracies for differnt value of b\r\n",
        "    accuracy = {}\r\n",
        "    #since the range of b is from [0,n]\r\n",
        "    for b in range(x.shape[1] + 1):\r\n",
        "      self.b = b\r\n",
        "      yhat = []\r\n",
        "      for row in x:\r\n",
        "          yhat.append(self.Model(row)) \r\n",
        "      accuracy[b] = accuracy_score(yhat,y)\r\n",
        "    best_b = max(accuracy,key = accuracy.get)\r\n",
        "    self.b = best_b\r\n",
        "    return [accuracy,best_b,accuracy[best_b]]\r\n",
        "  def predict(self,x,y):\r\n",
        "    yhat = []\r\n",
        "    for row in x:\r\n",
        "      yhat.append(self.Model(row))\r\n",
        "    accuracy = accuracy_score(y,yhat)\r\n",
        "    return accuracy\r\n"
      ],
      "execution_count": 80,
      "outputs": []
    },
    {
      "cell_type": "code",
      "metadata": {
        "colab": {
          "base_uri": "https://localhost:8080/"
        },
        "id": "bJhOgAPdFwu7",
        "outputId": "fb820ee3-7977-4bfa-e505-b450dfad2159"
      },
      "source": [
        "neuron = MP_Neuron()\r\n",
        "accuracy, best_b, accuracy_model = neuron.fit(x_train_binarized,Y_train)\r\n",
        "print(\"The optimal value of b :\",best_b)\r\n",
        "print(\"accuracy_model on training data :\",accuracy_model*100)"
      ],
      "execution_count": 79,
      "outputs": [
        {
          "output_type": "stream",
          "text": [
            "The optimal value of b : 6\n",
            "accuracy_model on training data : 55.78512396694215\n"
          ],
          "name": "stdout"
        }
      ]
    },
    {
      "cell_type": "code",
      "metadata": {
        "colab": {
          "base_uri": "https://localhost:8080/",
          "height": 265
        },
        "id": "_wpMIQFeGKqH",
        "outputId": "1166628d-2a5c-4be7-cbf8-8ece9c0ab3e4"
      },
      "source": [
        "accuracies = list(accuracy.values())\r\n",
        "plt.plot(accuracies)\r\n",
        "plt.xticks(c='black')\r\n",
        "plt.yticks(c='black')\r\n",
        "plt.show()"
      ],
      "execution_count": 82,
      "outputs": [
        {
          "output_type": "display_data",
          "data": {
            "image/png": "[encoded data removed]",
            "text/plain": [
              "<Figure size 432x288 with 1 Axes>"
            ]
          },
          "metadata": {
            "tags": [],
            "needs_background": "light"
          }
        }
      ]
    },
    {
      "cell_type": "code",
      "metadata": {
        "colab": {
          "base_uri": "https://localhost:8080/"
        },
        "id": "JrUUaTYhGU_h",
        "outputId": "c66da167-21f9-4818-cbac-135b4c3eaaed"
      },
      "source": [
        "accuracy = neuron.predict(x_test_binarized,Y_test)\r\n",
        "print(\"The accuracy of model on test data is :\",accuracy*100)"
      ],
      "execution_count": 83,
      "outputs": [
        {
          "output_type": "stream",
          "text": [
            "The accuracy of model on test data is : 52.459016393442624\n"
          ],
          "name": "stdout"
        }
      ]
    }
  ]
}